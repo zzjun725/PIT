{
 "cells": [
  {
   "cell_type": "code",
   "execution_count": null,
   "metadata": {
    "collapsed": true
   },
   "outputs": [],
   "source": [
    "import pandas as pd\n",
    "import numpy as np\n",
    "import torch\n",
    "from torch import nn\n",
    "from torchdiffeq import odeint\n",
    "\n",
    "from pit.dynamics.kinematic_bicycle_f110 import KinematicBicycle_Steer\n",
    "from pit.integration import Euler, RK4\n",
    "from pit.data_processor.csv_loader import fetch_aligned_trajectory_data\n",
    "\n",
    "import matplotlib.pyplot as plt\n",
    "import json\n",
    "\n",
    "DEVICE = \"cuda\" if torch.cuda.is_available() else \"cpu\"\n",
    "print(DEVICE)"
   ]
  },
  {
   "cell_type": "code",
   "execution_count": null,
   "outputs": [],
   "source": [
    "class PacejkaTireModel(nn.Module):\n",
    "    def __init__(self, B=10.0, C=1.9, D=1.0, E=0.97, F=0.0, S=1.0):\n",
    "        super().__init__()\n",
    "        self.B_f = torch.nn.Parameter(torch.tensor(B, dtype=torch.float32))\n",
    "        self.C_f = torch.nn.Parameter(torch.tensor(C, dtype=torch.float32))\n",
    "        self.D_f = torch.nn.Parameter(torch.tensor(D, dtype=torch.float32))\n",
    "        self.E_f = torch.nn.Parameter(torch.tensor(E, dtype=torch.float32))\n",
    "\n",
    "\n",
    "    def forward(self, alpha):\n",
    "        \"\"\" Calculate the lateral force of the tire\n",
    "\n",
    "        Args:\n",
    "            alpha (torch.Tensor): Shape of (B, 1) or (1)\n",
    "        \"\"\"\n",
    "        batch_mode = True if len(alpha.shape) == 2 else False\n",
    "        alpha = torch.abs(alpha)\n",
    "        Fy = self.D * torch.sin(self.C * torch.atan(self.B * alpha - self.E * (self.B * alpha - torch.atan(self.B * alpha))))\n",
    "        return Fy\n",
    "\n",
    "\n",
    "class DynamicBicycle_Steer(nn.Module):\n",
    "    \"\"\"\n",
    "    \"\"\"\n",
    "\n",
    "    def __init__(self, lwb, st_delay, accel_delay, params_index) -> None:\n",
    "        super().__init__()\n",
    "        self.lwb = torch.nn.Parameter(torch.tensor(lwb, dtype=torch.float32))\n",
    "        self.steer_delay_time = torch.nn.Parameter(torch.tensor(st_delay, dtype=torch.float32))\n",
    "        self.accel_delay_time = torch.nn.Parameter(torch.tensor(accel_delay, dtype=torch.float32))\n",
    "        self.accel_max = torch.nn.Parameter(torch.tensor(10.0, dtype=torch.float32))\n",
    "        self.accel_min = torch.nn.Parameter(torch.tensor(-10.0, dtype=torch.float32))\n",
    "        self.steer_k = torch.nn.Parameter(torch.tensor(1.0, dtype=torch.float32))\n",
    "        self.steer_b = torch.nn.Parameter(torch.tensor(0.0, dtype=torch.float32))\n",
    "        self.speed_k = torch.nn.Parameter(torch.tensor(0.97, dtype=torch.float32))\n",
    "        # Define indexes for states and control inputs\n",
    "        for key, value in params_index.items():\n",
    "            setattr(self, key, value)\n",
    "        # real U: steer, velocity\n",
    "        # model U: steer_vel, accel.\n",
    "        if params_index[\"tire_model\"]==\"pacejka\":\n",
    "            self.tire_model = PacejkaTireModel()\n",
    "\n",
    "    def forward(self, states, control_inputs):\n",
    "        \"\"\" Get the evaluated ODEs of the state at this point\n",
    "\n",
    "        Args:\n",
    "            states (): Shape of (B, 5) or (5)\n",
    "            control_inputs (): Shape of (B, 2) or (2)\n",
    "        \"\"\"\n",
    "        batch_mode = True if len(states.shape) == 2 else False\n",
    "        diff = torch.zeros_like(states)"
   ],
   "metadata": {
    "collapsed": false
   }
  }
 ],
 "metadata": {
  "kernelspec": {
   "display_name": "Python 3",
   "language": "python",
   "name": "python3"
  },
  "language_info": {
   "codemirror_mode": {
    "name": "ipython",
    "version": 2
   },
   "file_extension": ".py",
   "mimetype": "text/x-python",
   "name": "python",
   "nbconvert_exporter": "python",
   "pygments_lexer": "ipython2",
   "version": "2.7.6"
  }
 },
 "nbformat": 4,
 "nbformat_minor": 0
}
